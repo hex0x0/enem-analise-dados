{
  "nbformat": 4,
  "nbformat_minor": 0,
  "metadata": {
    "colab": {
      "name": "dados_enem.ipynb",
      "provenance": [],
      "collapsed_sections": [],
      "include_colab_link": true
    },
    "kernelspec": {
      "name": "python3",
      "display_name": "Python 3"
    },
    "language_info": {
      "name": "python"
    }
  },
  "cells": [
    {
      "cell_type": "markdown",
      "metadata": {
        "id": "view-in-github",
        "colab_type": "text"
      },
      "source": [
        "<a href=\"https://colab.research.google.com/github/hex0x0/enem-analise-dados/blob/main/dados_enem.ipynb\" target=\"_parent\"><img src=\"https://colab.research.google.com/assets/colab-badge.svg\" alt=\"Open In Colab\"/></a>"
      ]
    },
    {
      "cell_type": "code",
      "execution_count": null,
      "metadata": {
        "id": "e-EBqjC99lJ6"
      },
      "outputs": [],
      "source": [
        "import pandas as pd\n",
        "import numpy as np\n",
        "import seaborn as sns\n",
        "import matplotlib.pyplot as plt\n",
        "import chardet\n",
        "import string"
      ]
    },
    {
      "cell_type": "code",
      "source": [
        "df = pd.read_csv(\"/content/drive/MyDrive/Colab Notebooks/MICRODADOS_ENEM_2020.csv\", encoding=\"ISO-8859-1\", sep=\";\")\n",
        "\n"
      ],
      "metadata": {
        "id": "AU1g-VnX9ye0"
      },
      "execution_count": null,
      "outputs": []
    },
    {
      "cell_type": "code",
      "source": [
        "from google.colab import drive\n",
        "drive.mount('/content/drive')"
      ],
      "metadata": {
        "id": "4SWscHAufWT2",
        "colab": {
          "base_uri": "https://localhost:8080/"
        },
        "outputId": "3007b732-df83-4e96-8e62-1bff91fa1127"
      },
      "execution_count": null,
      "outputs": [
        {
          "output_type": "stream",
          "name": "stdout",
          "text": [
            "Mounted at /content/drive\n"
          ]
        }
      ]
    },
    {
      "cell_type": "markdown",
      "source": [
        "Gera uma lista com as colunas do dataset"
      ],
      "metadata": {
        "id": "aWW_kOJsMabf"
      }
    },
    {
      "cell_type": "code",
      "source": [
        "cols = df.columns.tolist()"
      ],
      "metadata": {
        "id": "uic12ea1MW_q"
      },
      "execution_count": null,
      "outputs": []
    },
    {
      "cell_type": "code",
      "source": [
        "df.head(3)"
      ],
      "metadata": {
        "id": "xscYfvuhI6lT",
        "outputId": "f00ad0be-b599-456a-cd95-e72a66235d28",
        "colab": {
          "base_uri": "https://localhost:8080/",
          "height": 237
        }
      },
      "execution_count": null,
      "outputs": [
        {
          "output_type": "execute_result",
          "data": {
            "text/plain": [
              "  NU_INSCRICAO  NU_ANO  TP_FAIXA_ETARIA TP_SEXO  TP_ESTADO_CIVIL  TP_COR_RACA  \\\n",
              "0  2,00006E+11    2020               11       F                1            2   \n",
              "1  2,00001E+11    2020               11       M                2            3   \n",
              "2  2,00002E+11    2020                4       F                2            3   \n",
              "\n",
              "   TP_NACIONALIDADE  TP_ST_CONCLUSAO  TP_ANO_CONCLUIU  TP_ESCOLA  ...  Q016  \\\n",
              "0                 1                1               11          1  ...   NaN   \n",
              "1                 1                1               11          1  ...   NaN   \n",
              "2                 2                2                0          2  ...     B   \n",
              "\n",
              "   Q017  Q018 Q019  Q020 Q021  Q022  Q023  Q024  Q025  \n",
              "0   NaN   NaN  NaN   NaN  NaN   NaN   NaN   NaN   NaN  \n",
              "1   NaN   NaN  NaN   NaN  NaN   NaN   NaN   NaN   NaN  \n",
              "2     A     A    B     A    A     A     A     A     A  \n",
              "\n",
              "[3 rows x 76 columns]"
            ],
            "text/html": [
              "\n",
              "  <div id=\"df-782a6dbf-d0f9-4775-bf56-38f5248f6ce2\">\n",
              "    <div class=\"colab-df-container\">\n",
              "      <div>\n",
              "<style scoped>\n",
              "    .dataframe tbody tr th:only-of-type {\n",
              "        vertical-align: middle;\n",
              "    }\n",
              "\n",
              "    .dataframe tbody tr th {\n",
              "        vertical-align: top;\n",
              "    }\n",
              "\n",
              "    .dataframe thead th {\n",
              "        text-align: right;\n",
              "    }\n",
              "</style>\n",
              "<table border=\"1\" class=\"dataframe\">\n",
              "  <thead>\n",
              "    <tr style=\"text-align: right;\">\n",
              "      <th></th>\n",
              "      <th>NU_INSCRICAO</th>\n",
              "      <th>NU_ANO</th>\n",
              "      <th>TP_FAIXA_ETARIA</th>\n",
              "      <th>TP_SEXO</th>\n",
              "      <th>TP_ESTADO_CIVIL</th>\n",
              "      <th>TP_COR_RACA</th>\n",
              "      <th>TP_NACIONALIDADE</th>\n",
              "      <th>TP_ST_CONCLUSAO</th>\n",
              "      <th>TP_ANO_CONCLUIU</th>\n",
              "      <th>TP_ESCOLA</th>\n",
              "      <th>...</th>\n",
              "      <th>Q016</th>\n",
              "      <th>Q017</th>\n",
              "      <th>Q018</th>\n",
              "      <th>Q019</th>\n",
              "      <th>Q020</th>\n",
              "      <th>Q021</th>\n",
              "      <th>Q022</th>\n",
              "      <th>Q023</th>\n",
              "      <th>Q024</th>\n",
              "      <th>Q025</th>\n",
              "    </tr>\n",
              "  </thead>\n",
              "  <tbody>\n",
              "    <tr>\n",
              "      <th>0</th>\n",
              "      <td>2,00006E+11</td>\n",
              "      <td>2020</td>\n",
              "      <td>11</td>\n",
              "      <td>F</td>\n",
              "      <td>1</td>\n",
              "      <td>2</td>\n",
              "      <td>1</td>\n",
              "      <td>1</td>\n",
              "      <td>11</td>\n",
              "      <td>1</td>\n",
              "      <td>...</td>\n",
              "      <td>NaN</td>\n",
              "      <td>NaN</td>\n",
              "      <td>NaN</td>\n",
              "      <td>NaN</td>\n",
              "      <td>NaN</td>\n",
              "      <td>NaN</td>\n",
              "      <td>NaN</td>\n",
              "      <td>NaN</td>\n",
              "      <td>NaN</td>\n",
              "      <td>NaN</td>\n",
              "    </tr>\n",
              "    <tr>\n",
              "      <th>1</th>\n",
              "      <td>2,00001E+11</td>\n",
              "      <td>2020</td>\n",
              "      <td>11</td>\n",
              "      <td>M</td>\n",
              "      <td>2</td>\n",
              "      <td>3</td>\n",
              "      <td>1</td>\n",
              "      <td>1</td>\n",
              "      <td>11</td>\n",
              "      <td>1</td>\n",
              "      <td>...</td>\n",
              "      <td>NaN</td>\n",
              "      <td>NaN</td>\n",
              "      <td>NaN</td>\n",
              "      <td>NaN</td>\n",
              "      <td>NaN</td>\n",
              "      <td>NaN</td>\n",
              "      <td>NaN</td>\n",
              "      <td>NaN</td>\n",
              "      <td>NaN</td>\n",
              "      <td>NaN</td>\n",
              "    </tr>\n",
              "    <tr>\n",
              "      <th>2</th>\n",
              "      <td>2,00002E+11</td>\n",
              "      <td>2020</td>\n",
              "      <td>4</td>\n",
              "      <td>F</td>\n",
              "      <td>2</td>\n",
              "      <td>3</td>\n",
              "      <td>2</td>\n",
              "      <td>2</td>\n",
              "      <td>0</td>\n",
              "      <td>2</td>\n",
              "      <td>...</td>\n",
              "      <td>B</td>\n",
              "      <td>A</td>\n",
              "      <td>A</td>\n",
              "      <td>B</td>\n",
              "      <td>A</td>\n",
              "      <td>A</td>\n",
              "      <td>A</td>\n",
              "      <td>A</td>\n",
              "      <td>A</td>\n",
              "      <td>A</td>\n",
              "    </tr>\n",
              "  </tbody>\n",
              "</table>\n",
              "<p>3 rows × 76 columns</p>\n",
              "</div>\n",
              "      <button class=\"colab-df-convert\" onclick=\"convertToInteractive('df-782a6dbf-d0f9-4775-bf56-38f5248f6ce2')\"\n",
              "              title=\"Convert this dataframe to an interactive table.\"\n",
              "              style=\"display:none;\">\n",
              "        \n",
              "  <svg xmlns=\"http://www.w3.org/2000/svg\" height=\"24px\"viewBox=\"0 0 24 24\"\n",
              "       width=\"24px\">\n",
              "    <path d=\"M0 0h24v24H0V0z\" fill=\"none\"/>\n",
              "    <path d=\"M18.56 5.44l.94 2.06.94-2.06 2.06-.94-2.06-.94-.94-2.06-.94 2.06-2.06.94zm-11 1L8.5 8.5l.94-2.06 2.06-.94-2.06-.94L8.5 2.5l-.94 2.06-2.06.94zm10 10l.94 2.06.94-2.06 2.06-.94-2.06-.94-.94-2.06-.94 2.06-2.06.94z\"/><path d=\"M17.41 7.96l-1.37-1.37c-.4-.4-.92-.59-1.43-.59-.52 0-1.04.2-1.43.59L10.3 9.45l-7.72 7.72c-.78.78-.78 2.05 0 2.83L4 21.41c.39.39.9.59 1.41.59.51 0 1.02-.2 1.41-.59l7.78-7.78 2.81-2.81c.8-.78.8-2.07 0-2.86zM5.41 20L4 18.59l7.72-7.72 1.47 1.35L5.41 20z\"/>\n",
              "  </svg>\n",
              "      </button>\n",
              "      \n",
              "  <style>\n",
              "    .colab-df-container {\n",
              "      display:flex;\n",
              "      flex-wrap:wrap;\n",
              "      gap: 12px;\n",
              "    }\n",
              "\n",
              "    .colab-df-convert {\n",
              "      background-color: #E8F0FE;\n",
              "      border: none;\n",
              "      border-radius: 50%;\n",
              "      cursor: pointer;\n",
              "      display: none;\n",
              "      fill: #1967D2;\n",
              "      height: 32px;\n",
              "      padding: 0 0 0 0;\n",
              "      width: 32px;\n",
              "    }\n",
              "\n",
              "    .colab-df-convert:hover {\n",
              "      background-color: #E2EBFA;\n",
              "      box-shadow: 0px 1px 2px rgba(60, 64, 67, 0.3), 0px 1px 3px 1px rgba(60, 64, 67, 0.15);\n",
              "      fill: #174EA6;\n",
              "    }\n",
              "\n",
              "    [theme=dark] .colab-df-convert {\n",
              "      background-color: #3B4455;\n",
              "      fill: #D2E3FC;\n",
              "    }\n",
              "\n",
              "    [theme=dark] .colab-df-convert:hover {\n",
              "      background-color: #434B5C;\n",
              "      box-shadow: 0px 1px 3px 1px rgba(0, 0, 0, 0.15);\n",
              "      filter: drop-shadow(0px 1px 2px rgba(0, 0, 0, 0.3));\n",
              "      fill: #FFFFFF;\n",
              "    }\n",
              "  </style>\n",
              "\n",
              "      <script>\n",
              "        const buttonEl =\n",
              "          document.querySelector('#df-782a6dbf-d0f9-4775-bf56-38f5248f6ce2 button.colab-df-convert');\n",
              "        buttonEl.style.display =\n",
              "          google.colab.kernel.accessAllowed ? 'block' : 'none';\n",
              "\n",
              "        async function convertToInteractive(key) {\n",
              "          const element = document.querySelector('#df-782a6dbf-d0f9-4775-bf56-38f5248f6ce2');\n",
              "          const dataTable =\n",
              "            await google.colab.kernel.invokeFunction('convertToInteractive',\n",
              "                                                     [key], {});\n",
              "          if (!dataTable) return;\n",
              "\n",
              "          const docLinkHtml = 'Like what you see? Visit the ' +\n",
              "            '<a target=\"_blank\" href=https://colab.research.google.com/notebooks/data_table.ipynb>data table notebook</a>'\n",
              "            + ' to learn more about interactive tables.';\n",
              "          element.innerHTML = '';\n",
              "          dataTable['output_type'] = 'display_data';\n",
              "          await google.colab.output.renderOutput(dataTable, element);\n",
              "          const docLink = document.createElement('div');\n",
              "          docLink.innerHTML = docLinkHtml;\n",
              "          element.appendChild(docLink);\n",
              "        }\n",
              "      </script>\n",
              "    </div>\n",
              "  </div>\n",
              "  "
            ]
          },
          "metadata": {},
          "execution_count": 13
        }
      ]
    },
    {
      "cell_type": "code",
      "source": [
        "dados_selecionados = ['TP_FAIXA_ETARIA', 'TP_SEXO',\n",
        "       'TP_ESTADO_CIVIL', 'TP_COR_RACA', 'TP_NACIONALIDADE', 'TP_ST_CONCLUSAO',\n",
        "       'TP_ANO_CONCLUIU', 'TP_ESCOLA', 'TP_ENSINO', 'IN_TREINEIRO',\n",
        "       'TP_PRESENCA_CN', 'TP_PRESENCA_CH', 'TP_PRESENCA_LC',\n",
        "       'TP_PRESENCA_MT', 'NU_NOTA_CN', 'NU_NOTA_CH', 'NU_NOTA_LC', 'NU_NOTA_MT',\n",
        "       'NU_NOTA_REDACAO', 'Q001', 'Q002', 'Q003', 'Q004',\n",
        "       'Q005', 'Q006', 'Q007', 'Q008', 'Q009', 'Q010', 'Q011', 'Q012', 'Q013',\n",
        "       'Q014', 'Q015', 'Q016', 'Q017', 'Q018', 'Q019', 'Q020', 'Q021', 'Q022',\n",
        "       'Q023', 'Q024', 'Q025']"
      ],
      "metadata": {
        "id": "Oa0LXpeVJTCI"
      },
      "execution_count": null,
      "outputs": []
    },
    {
      "cell_type": "code",
      "source": [
        ""
      ],
      "metadata": {
        "id": "dwcep6_9JetC"
      },
      "execution_count": null,
      "outputs": []
    },
    {
      "cell_type": "code",
      "source": [
        "novo_df = df.filter(items=dados_selecionados)"
      ],
      "metadata": {
        "id": "KJLfn7bOJ8Dm"
      },
      "execution_count": null,
      "outputs": []
    },
    {
      "cell_type": "code",
      "source": [
        "COLUNA_TP_FAIXA_ETARIA = novo_df['TP_FAIXA_ETARIA']"
      ],
      "metadata": {
        "id": "eJ5zu8V6KU6j"
      },
      "execution_count": null,
      "outputs": []
    },
    {
      "cell_type": "code",
      "source": [
        "COLUNA_TP_FAIXA_ETARIA.value_counts()"
      ],
      "metadata": {
        "colab": {
          "base_uri": "https://localhost:8080/"
        },
        "id": "kq8zKQDhOWpG",
        "outputId": "6a8ee963-406a-44e4-8b7f-3a30441aad42"
      },
      "execution_count": null,
      "outputs": [
        {
          "output_type": "execute_result",
          "data": {
            "text/plain": [
              "3     229287\n",
              "2     202940\n",
              "4     130174\n",
              "5      82477\n",
              "11     71313\n",
              "6      56307\n",
              "1      51292\n",
              "12     39879\n",
              "7      39792\n",
              "8      33229\n",
              "13     27638\n",
              "9      27222\n",
              "10     23176\n",
              "14     16331\n",
              "15      9255\n",
              "16      4860\n",
              "17      2238\n",
              "18       815\n",
              "19       264\n",
              "20        86\n",
              "Name: TP_FAIXA_ETARIA, dtype: int64"
            ]
          },
          "metadata": {},
          "execution_count": 13
        }
      ]
    },
    {
      "cell_type": "code",
      "source": [
        "COLUNA_TP_FAIXA_ETARIA.hist(bins=10)"
      ],
      "metadata": {
        "colab": {
          "base_uri": "https://localhost:8080/",
          "height": 282
        },
        "id": "zd6rnfI7PWET",
        "outputId": "3361abde-0dbb-4b06-df6d-d69511e81f0b"
      },
      "execution_count": null,
      "outputs": [
        {
          "output_type": "execute_result",
          "data": {
            "text/plain": [
              "<matplotlib.axes._subplots.AxesSubplot at 0x7fb1f66ce290>"
            ]
          },
          "metadata": {},
          "execution_count": 14
        },
        {
          "output_type": "display_data",
          "data": {
            "text/plain": [
              "<Figure size 432x288 with 1 Axes>"
            ],
            "image/png": "[encoded data removed]"
          },
          "metadata": {
            "needs_background": "light"
          }
        }
      ]
    },
    {
      "cell_type": "markdown",
      "source": [
        "Verifica a quantidade de linhas e colunas do dataset"
      ],
      "metadata": {
        "id": "AHhqz67-RL7s"
      }
    },
    {
      "cell_type": "code",
      "source": [
        "print('Número de linhas:\\t {}'.format(df.shape[0]))\n",
        "print('Número de colunas:\\t {}'.format(df.shape[1]))"
      ],
      "metadata": {
        "colab": {
          "base_uri": "https://localhost:8080/"
        },
        "id": "M6Wql0zsRPqt",
        "outputId": "7829b9cf-3bd8-4812-d222-0155ab3f4905"
      },
      "execution_count": null,
      "outputs": [
        {
          "output_type": "stream",
          "name": "stdout",
          "text": [
            "Número de linhas:\t 1048575\n",
            "Número de colunas:\t 76\n"
          ]
        }
      ]
    },
    {
      "cell_type": "markdown",
      "source": [
        "Ao verificar o percentual de dados ausentes, descobrimos que os dados referentes a localização da escola, Código da UF da escola, Situação de funcionários da escola, dados sobre dependência administrativa (escola), e sigla da UF da escola estavam com alto percentual de ausência. Portanto, serão excluídos do dataset."
      ],
      "metadata": {
        "id": "jkISRZruS9uA"
      }
    },
    {
      "cell_type": "code",
      "source": [
        "((df.isnull().sum() / df.shape[0]) * 100).sort_values(ascending=False)"
      ],
      "metadata": {
        "colab": {
          "base_uri": "https://localhost:8080/"
        },
        "id": "CG1oAvJjRf5r",
        "outputId": "3d247b8c-f2b2-4d9f-dedc-baad8b4680e5"
      },
      "execution_count": null,
      "outputs": [
        {
          "output_type": "execute_result",
          "data": {
            "text/plain": [
              "TP_LOCALIZACAO_ESC        78.470973\n",
              "CO_UF_ESC                 78.470973\n",
              "TP_SIT_FUNC_ESC           78.470973\n",
              "TP_DEPENDENCIA_ADM_ESC    78.470973\n",
              "SG_UF_ESC                 78.470973\n",
              "                            ...    \n",
              "TP_PRESENCA_LC             0.000000\n",
              "TP_PRESENCA_MT             0.000000\n",
              "NU_ANO                     0.000000\n",
              "TP_LINGUA                  0.000000\n",
              "NU_INSCRICAO               0.000000\n",
              "Length: 76, dtype: float64"
            ]
          },
          "metadata": {},
          "execution_count": 15
        }
      ]
    },
    {
      "cell_type": "markdown",
      "source": [
        "Utilizando o describe para ter uma noção mais geral de como estão distribuídos os dados"
      ],
      "metadata": {
        "id": "f2l6Akl8UX0i"
      }
    },
    {
      "cell_type": "code",
      "source": [
        "novo_df.describe()"
      ],
      "metadata": {
        "colab": {
          "base_uri": "https://localhost:8080/",
          "height": 394
        },
        "id": "CMmVgeeqUhRB",
        "outputId": "38a0d1fc-39cf-42b0-8c0f-d8dd3d223765"
      },
      "execution_count": null,
      "outputs": [
        {
          "output_type": "execute_result",
          "data": {
            "text/plain": [
              "       TP_FAIXA_ETARIA  TP_ESTADO_CIVIL   TP_COR_RACA  TP_NACIONALIDADE  \\\n",
              "count     1.048575e+06     1.048575e+06  1.048575e+06      1.048575e+06   \n",
              "mean      5.306293e+00     1.055124e+00  2.137990e+00      1.032624e+00   \n",
              "std       3.754783e+00     4.042238e-01  1.012808e+00      2.097520e-01   \n",
              "min       1.000000e+00     0.000000e+00  0.000000e+00      0.000000e+00   \n",
              "25%       3.000000e+00     1.000000e+00  1.000000e+00      1.000000e+00   \n",
              "50%       4.000000e+00     1.000000e+00  2.000000e+00      1.000000e+00   \n",
              "75%       7.000000e+00     1.000000e+00  3.000000e+00      1.000000e+00   \n",
              "max       2.000000e+01     4.000000e+00  5.000000e+00      4.000000e+00   \n",
              "\n",
              "       TP_ST_CONCLUSAO  TP_ANO_CONCLUIU     TP_ESCOLA      TP_ENSINO  \\\n",
              "count     1.048575e+06     1.048575e+06  1.048575e+06  356881.000000   \n",
              "mean      1.530033e+00     2.341235e+00  1.406598e+00       1.006386   \n",
              "std       6.606320e-01     3.876861e+00  5.893752e-01       0.079656   \n",
              "min       1.000000e+00     0.000000e+00  1.000000e+00       1.000000   \n",
              "25%       1.000000e+00     0.000000e+00  1.000000e+00       1.000000   \n",
              "50%       1.000000e+00     0.000000e+00  1.000000e+00       1.000000   \n",
              "75%       2.000000e+00     3.000000e+00  2.000000e+00       1.000000   \n",
              "max       4.000000e+00     1.400000e+01  3.000000e+00       2.000000   \n",
              "\n",
              "       IN_TREINEIRO  TP_PRESENCA_CN  ...    CO_PROVA_CN    CO_PROVA_CH  \\\n",
              "count  1.048575e+06    1.048575e+06  ...  606222.000000  635840.000000   \n",
              "mean   8.281048e-02    5.786730e-01  ...     604.009284     574.729728   \n",
              "std    2.755957e-01    4.943125e-01  ...      22.191170      25.307294   \n",
              "min    0.000000e+00    0.000000e+00  ...     597.000000     567.000000   \n",
              "25%    0.000000e+00    0.000000e+00  ...     598.000000     568.000000   \n",
              "50%    0.000000e+00    1.000000e+00  ...     599.000000     569.000000   \n",
              "75%    0.000000e+00    1.000000e+00  ...     600.000000     570.000000   \n",
              "max    1.000000e+00    2.000000e+00  ...     702.000000     690.000000   \n",
              "\n",
              "         CO_PROVA_LC    CO_PROVA_MT     NU_NOTA_CN     NU_NOTA_CH  \\\n",
              "count  635840.000000  606222.000000  606222.000000  635840.000000   \n",
              "mean      584.502339     594.224228     494.616188     519.422297   \n",
              "std        24.301887      23.143935      81.772901      96.500124   \n",
              "min       577.000000     587.000000       0.000000       0.000000   \n",
              "25%       578.000000     588.000000     429.400000     444.700000   \n",
              "50%       579.000000     589.000000     487.900000     521.200000   \n",
              "75%       580.000000     590.000000     554.000000     589.000000   \n",
              "max       694.000000     698.000000     854.800000     862.600000   \n",
              "\n",
              "          NU_NOTA_LC     NU_NOTA_MT  NU_NOTA_REDACAO           Q005  \n",
              "count  635840.000000  606222.000000    635840.000000  973766.000000  \n",
              "mean      530.103824     525.720676       612.205586       3.793361  \n",
              "std        73.332113     119.809999       201.016594       1.417648  \n",
              "min         0.000000       0.000000         0.000000       1.000000  \n",
              "25%       485.500000     429.000000       500.000000       3.000000  \n",
              "50%       535.900000     509.000000       600.000000       4.000000  \n",
              "75%       581.300000     608.100000       760.000000       4.000000  \n",
              "max       778.400000     975.000000      1000.000000      20.000000  \n",
              "\n",
              "[8 rows x 23 columns]"
            ],
            "text/html": [
              "\n",
              "  <div id=\"df-24704f44-b266-4dea-bf90-72d64219294f\">\n",
              "    <div class=\"colab-df-container\">\n",
              "      <div>\n",
              "<style scoped>\n",
              "    .dataframe tbody tr th:only-of-type {\n",
              "        vertical-align: middle;\n",
              "    }\n",
              "\n",
              "    .dataframe tbody tr th {\n",
              "        vertical-align: top;\n",
              "    }\n",
              "\n",
              "    .dataframe thead th {\n",
              "        text-align: right;\n",
              "    }\n",
              "</style>\n",
              "<table border=\"1\" class=\"dataframe\">\n",
              "  <thead>\n",
              "    <tr style=\"text-align: right;\">\n",
              "      <th></th>\n",
              "      <th>TP_FAIXA_ETARIA</th>\n",
              "      <th>TP_ESTADO_CIVIL</th>\n",
              "      <th>TP_COR_RACA</th>\n",
              "      <th>TP_NACIONALIDADE</th>\n",
              "      <th>TP_ST_CONCLUSAO</th>\n",
              "      <th>TP_ANO_CONCLUIU</th>\n",
              "      <th>TP_ESCOLA</th>\n",
              "      <th>TP_ENSINO</th>\n",
              "      <th>IN_TREINEIRO</th>\n",
              "      <th>TP_PRESENCA_CN</th>\n",
              "      <th>...</th>\n",
              "      <th>CO_PROVA_CN</th>\n",
              "      <th>CO_PROVA_CH</th>\n",
              "      <th>CO_PROVA_LC</th>\n",
              "      <th>CO_PROVA_MT</th>\n",
              "      <th>NU_NOTA_CN</th>\n",
              "      <th>NU_NOTA_CH</th>\n",
              "      <th>NU_NOTA_LC</th>\n",
              "      <th>NU_NOTA_MT</th>\n",
              "      <th>NU_NOTA_REDACAO</th>\n",
              "      <th>Q005</th>\n",
              "    </tr>\n",
              "  </thead>\n",
              "  <tbody>\n",
              "    <tr>\n",
              "      <th>count</th>\n",
              "      <td>1.048575e+06</td>\n",
              "      <td>1.048575e+06</td>\n",
              "      <td>1.048575e+06</td>\n",
              "      <td>1.048575e+06</td>\n",
              "      <td>1.048575e+06</td>\n",
              "      <td>1.048575e+06</td>\n",
              "      <td>1.048575e+06</td>\n",
              "      <td>356881.000000</td>\n",
              "      <td>1.048575e+06</td>\n",
              "      <td>1.048575e+06</td>\n",
              "      <td>...</td>\n",
              "      <td>606222.000000</td>\n",
              "      <td>635840.000000</td>\n",
              "      <td>635840.000000</td>\n",
              "      <td>606222.000000</td>\n",
              "      <td>606222.000000</td>\n",
              "      <td>635840.000000</td>\n",
              "      <td>635840.000000</td>\n",
              "      <td>606222.000000</td>\n",
              "      <td>635840.000000</td>\n",
              "      <td>973766.000000</td>\n",
              "    </tr>\n",
              "    <tr>\n",
              "      <th>mean</th>\n",
              "      <td>5.306293e+00</td>\n",
              "      <td>1.055124e+00</td>\n",
              "      <td>2.137990e+00</td>\n",
              "      <td>1.032624e+00</td>\n",
              "      <td>1.530033e+00</td>\n",
              "      <td>2.341235e+00</td>\n",
              "      <td>1.406598e+00</td>\n",
              "      <td>1.006386</td>\n",
              "      <td>8.281048e-02</td>\n",
              "      <td>5.786730e-01</td>\n",
              "      <td>...</td>\n",
              "      <td>604.009284</td>\n",
              "      <td>574.729728</td>\n",
              "      <td>584.502339</td>\n",
              "      <td>594.224228</td>\n",
              "      <td>494.616188</td>\n",
              "      <td>519.422297</td>\n",
              "      <td>530.103824</td>\n",
              "      <td>525.720676</td>\n",
              "      <td>612.205586</td>\n",
              "      <td>3.793361</td>\n",
              "    </tr>\n",
              "    <tr>\n",
              "      <th>std</th>\n",
              "      <td>3.754783e+00</td>\n",
              "      <td>4.042238e-01</td>\n",
              "      <td>1.012808e+00</td>\n",
              "      <td>2.097520e-01</td>\n",
              "      <td>6.606320e-01</td>\n",
              "      <td>3.876861e+00</td>\n",
              "      <td>5.893752e-01</td>\n",
              "      <td>0.079656</td>\n",
              "      <td>2.755957e-01</td>\n",
              "      <td>4.943125e-01</td>\n",
              "      <td>...</td>\n",
              "      <td>22.191170</td>\n",
              "      <td>25.307294</td>\n",
              "      <td>24.301887</td>\n",
              "      <td>23.143935</td>\n",
              "      <td>81.772901</td>\n",
              "      <td>96.500124</td>\n",
              "      <td>73.332113</td>\n",
              "      <td>119.809999</td>\n",
              "      <td>201.016594</td>\n",
              "      <td>1.417648</td>\n",
              "    </tr>\n",
              "    <tr>\n",
              "      <th>min</th>\n",
              "      <td>1.000000e+00</td>\n",
              "      <td>0.000000e+00</td>\n",
              "      <td>0.000000e+00</td>\n",
              "      <td>0.000000e+00</td>\n",
              "      <td>1.000000e+00</td>\n",
              "      <td>0.000000e+00</td>\n",
              "      <td>1.000000e+00</td>\n",
              "      <td>1.000000</td>\n",
              "      <td>0.000000e+00</td>\n",
              "      <td>0.000000e+00</td>\n",
              "      <td>...</td>\n",
              "      <td>597.000000</td>\n",
              "      <td>567.000000</td>\n",
              "      <td>577.000000</td>\n",
              "      <td>587.000000</td>\n",
              "      <td>0.000000</td>\n",
              "      <td>0.000000</td>\n",
              "      <td>0.000000</td>\n",
              "      <td>0.000000</td>\n",
              "      <td>0.000000</td>\n",
              "      <td>1.000000</td>\n",
              "    </tr>\n",
              "    <tr>\n",
              "      <th>25%</th>\n",
              "      <td>3.000000e+00</td>\n",
              "      <td>1.000000e+00</td>\n",
              "      <td>1.000000e+00</td>\n",
              "      <td>1.000000e+00</td>\n",
              "      <td>1.000000e+00</td>\n",
              "      <td>0.000000e+00</td>\n",
              "      <td>1.000000e+00</td>\n",
              "      <td>1.000000</td>\n",
              "      <td>0.000000e+00</td>\n",
              "      <td>0.000000e+00</td>\n",
              "      <td>...</td>\n",
              "      <td>598.000000</td>\n",
              "      <td>568.000000</td>\n",
              "      <td>578.000000</td>\n",
              "      <td>588.000000</td>\n",
              "      <td>429.400000</td>\n",
              "      <td>444.700000</td>\n",
              "      <td>485.500000</td>\n",
              "      <td>429.000000</td>\n",
              "      <td>500.000000</td>\n",
              "      <td>3.000000</td>\n",
              "    </tr>\n",
              "    <tr>\n",
              "      <th>50%</th>\n",
              "      <td>4.000000e+00</td>\n",
              "      <td>1.000000e+00</td>\n",
              "      <td>2.000000e+00</td>\n",
              "      <td>1.000000e+00</td>\n",
              "      <td>1.000000e+00</td>\n",
              "      <td>0.000000e+00</td>\n",
              "      <td>1.000000e+00</td>\n",
              "      <td>1.000000</td>\n",
              "      <td>0.000000e+00</td>\n",
              "      <td>1.000000e+00</td>\n",
              "      <td>...</td>\n",
              "      <td>599.000000</td>\n",
              "      <td>569.000000</td>\n",
              "      <td>579.000000</td>\n",
              "      <td>589.000000</td>\n",
              "      <td>487.900000</td>\n",
              "      <td>521.200000</td>\n",
              "      <td>535.900000</td>\n",
              "      <td>509.000000</td>\n",
              "      <td>600.000000</td>\n",
              "      <td>4.000000</td>\n",
              "    </tr>\n",
              "    <tr>\n",
              "      <th>75%</th>\n",
              "      <td>7.000000e+00</td>\n",
              "      <td>1.000000e+00</td>\n",
              "      <td>3.000000e+00</td>\n",
              "      <td>1.000000e+00</td>\n",
              "      <td>2.000000e+00</td>\n",
              "      <td>3.000000e+00</td>\n",
              "      <td>2.000000e+00</td>\n",
              "      <td>1.000000</td>\n",
              "      <td>0.000000e+00</td>\n",
              "      <td>1.000000e+00</td>\n",
              "      <td>...</td>\n",
              "      <td>600.000000</td>\n",
              "      <td>570.000000</td>\n",
              "      <td>580.000000</td>\n",
              "      <td>590.000000</td>\n",
              "      <td>554.000000</td>\n",
              "      <td>589.000000</td>\n",
              "      <td>581.300000</td>\n",
              "      <td>608.100000</td>\n",
              "      <td>760.000000</td>\n",
              "      <td>4.000000</td>\n",
              "    </tr>\n",
              "    <tr>\n",
              "      <th>max</th>\n",
              "      <td>2.000000e+01</td>\n",
              "      <td>4.000000e+00</td>\n",
              "      <td>5.000000e+00</td>\n",
              "      <td>4.000000e+00</td>\n",
              "      <td>4.000000e+00</td>\n",
              "      <td>1.400000e+01</td>\n",
              "      <td>3.000000e+00</td>\n",
              "      <td>2.000000</td>\n",
              "      <td>1.000000e+00</td>\n",
              "      <td>2.000000e+00</td>\n",
              "      <td>...</td>\n",
              "      <td>702.000000</td>\n",
              "      <td>690.000000</td>\n",
              "      <td>694.000000</td>\n",
              "      <td>698.000000</td>\n",
              "      <td>854.800000</td>\n",
              "      <td>862.600000</td>\n",
              "      <td>778.400000</td>\n",
              "      <td>975.000000</td>\n",
              "      <td>1000.000000</td>\n",
              "      <td>20.000000</td>\n",
              "    </tr>\n",
              "  </tbody>\n",
              "</table>\n",
              "<p>8 rows × 23 columns</p>\n",
              "</div>\n",
              "      <button class=\"colab-df-convert\" onclick=\"convertToInteractive('df-24704f44-b266-4dea-bf90-72d64219294f')\"\n",
              "              title=\"Convert this dataframe to an interactive table.\"\n",
              "              style=\"display:none;\">\n",
              "        \n",
              "  <svg xmlns=\"http://www.w3.org/2000/svg\" height=\"24px\"viewBox=\"0 0 24 24\"\n",
              "       width=\"24px\">\n",
              "    <path d=\"M0 0h24v24H0V0z\" fill=\"none\"/>\n",
              "    <path d=\"M18.56 5.44l.94 2.06.94-2.06 2.06-.94-2.06-.94-.94-2.06-.94 2.06-2.06.94zm-11 1L8.5 8.5l.94-2.06 2.06-.94-2.06-.94L8.5 2.5l-.94 2.06-2.06.94zm10 10l.94 2.06.94-2.06 2.06-.94-2.06-.94-.94-2.06-.94 2.06-2.06.94z\"/><path d=\"M17.41 7.96l-1.37-1.37c-.4-.4-.92-.59-1.43-.59-.52 0-1.04.2-1.43.59L10.3 9.45l-7.72 7.72c-.78.78-.78 2.05 0 2.83L4 21.41c.39.39.9.59 1.41.59.51 0 1.02-.2 1.41-.59l7.78-7.78 2.81-2.81c.8-.78.8-2.07 0-2.86zM5.41 20L4 18.59l7.72-7.72 1.47 1.35L5.41 20z\"/>\n",
              "  </svg>\n",
              "      </button>\n",
              "      \n",
              "  <style>\n",
              "    .colab-df-container {\n",
              "      display:flex;\n",
              "      flex-wrap:wrap;\n",
              "      gap: 12px;\n",
              "    }\n",
              "\n",
              "    .colab-df-convert {\n",
              "      background-color: #E8F0FE;\n",
              "      border: none;\n",
              "      border-radius: 50%;\n",
              "      cursor: pointer;\n",
              "      display: none;\n",
              "      fill: #1967D2;\n",
              "      height: 32px;\n",
              "      padding: 0 0 0 0;\n",
              "      width: 32px;\n",
              "    }\n",
              "\n",
              "    .colab-df-convert:hover {\n",
              "      background-color: #E2EBFA;\n",
              "      box-shadow: 0px 1px 2px rgba(60, 64, 67, 0.3), 0px 1px 3px 1px rgba(60, 64, 67, 0.15);\n",
              "      fill: #174EA6;\n",
              "    }\n",
              "\n",
              "    [theme=dark] .colab-df-convert {\n",
              "      background-color: #3B4455;\n",
              "      fill: #D2E3FC;\n",
              "    }\n",
              "\n",
              "    [theme=dark] .colab-df-convert:hover {\n",
              "      background-color: #434B5C;\n",
              "      box-shadow: 0px 1px 3px 1px rgba(0, 0, 0, 0.15);\n",
              "      filter: drop-shadow(0px 1px 2px rgba(0, 0, 0, 0.3));\n",
              "      fill: #FFFFFF;\n",
              "    }\n",
              "  </style>\n",
              "\n",
              "      <script>\n",
              "        const buttonEl =\n",
              "          document.querySelector('#df-24704f44-b266-4dea-bf90-72d64219294f button.colab-df-convert');\n",
              "        buttonEl.style.display =\n",
              "          google.colab.kernel.accessAllowed ? 'block' : 'none';\n",
              "\n",
              "        async function convertToInteractive(key) {\n",
              "          const element = document.querySelector('#df-24704f44-b266-4dea-bf90-72d64219294f');\n",
              "          const dataTable =\n",
              "            await google.colab.kernel.invokeFunction('convertToInteractive',\n",
              "                                                     [key], {});\n",
              "          if (!dataTable) return;\n",
              "\n",
              "          const docLinkHtml = 'Like what you see? Visit the ' +\n",
              "            '<a target=\"_blank\" href=https://colab.research.google.com/notebooks/data_table.ipynb>data table notebook</a>'\n",
              "            + ' to learn more about interactive tables.';\n",
              "          element.innerHTML = '';\n",
              "          dataTable['output_type'] = 'display_data';\n",
              "          await google.colab.output.renderOutput(dataTable, element);\n",
              "          const docLink = document.createElement('div');\n",
              "          docLink.innerHTML = docLinkHtml;\n",
              "          element.appendChild(docLink);\n",
              "        }\n",
              "      </script>\n",
              "    </div>\n",
              "  </div>\n",
              "  "
            ]
          },
          "metadata": {},
          "execution_count": 8
        }
      ]
    },
    {
      "cell_type": "markdown",
      "source": [
        "Eliminando dados NAN do dataset e dados dos participantes treineiros\n",
        "\n",
        "\n"
      ],
      "metadata": {
        "id": "e9v8IfuPVROF"
      }
    },
    {
      "cell_type": "code",
      "source": [
        "novod_df = novo_df.dropna(inplace=True)\n",
        "novo_df = novo_df[novo_df.IN_TREINEIRO <= 0]"
      ],
      "metadata": {
        "id": "DxyjK8JOVUdz"
      },
      "execution_count": null,
      "outputs": []
    },
    {
      "cell_type": "markdown",
      "source": [
        "Eliminando os estudantes que faltaram em qualquer uma das provas"
      ],
      "metadata": {
        "id": "wRpHqnzgLlIJ"
      }
    },
    {
      "cell_type": "code",
      "source": [
        "for col in ['TP_PRESENCA_CH', 'TP_PRESENCA_CN']:\n",
        "  df = df[df[col] == 1]\n",
        "    "
      ],
      "metadata": {
        "id": "RRnxujG4LohD"
      },
      "execution_count": null,
      "outputs": []
    },
    {
      "cell_type": "markdown",
      "source": [
        "Eliminando estudantes que tiveram a nota zerada"
      ],
      "metadata": {
        "id": "AaoBs9kDRQsP"
      }
    },
    {
      "cell_type": "code",
      "source": [
        "df = df[df['NU_NOTA_MT'] != 0]"
      ],
      "metadata": {
        "id": "afOZmK50RT6i"
      },
      "execution_count": null,
      "outputs": []
    },
    {
      "cell_type": "markdown",
      "source": [
        "Calculando nota média dos alunos"
      ],
      "metadata": {
        "id": "l7hs65CGV5RP"
      }
    },
    {
      "cell_type": "code",
      "source": [
        "novo_df['MEDIA_NOTA'] = (novo_df['NU_NOTA_CH'] + novo_df['NU_NOTA_CN'] + novo_df['NU_NOTA_LC'] + novo_df['NU_NOTA_MT'] + novo_df['NU_NOTA_REDACAO']) / 5.0"
      ],
      "metadata": {
        "id": "U1l_6xsKV9Z_"
      },
      "execution_count": null,
      "outputs": []
    },
    {
      "cell_type": "code",
      "source": [
        "coluna_media = novo_df['MEDIA_NOTA']"
      ],
      "metadata": {
        "id": "iGId6-I6Wdti"
      },
      "execution_count": null,
      "outputs": []
    },
    {
      "cell_type": "code",
      "source": [
        "coluna_media.hist()"
      ],
      "metadata": {
        "colab": {
          "base_uri": "https://localhost:8080/",
          "height": 283
        },
        "id": "vqXl6HMhXQQm",
        "outputId": "4313fc60-7458-4e43-db07-dd2f1c4d2351"
      },
      "execution_count": null,
      "outputs": [
        {
          "output_type": "execute_result",
          "data": {
            "text/plain": [
              "<matplotlib.axes._subplots.AxesSubplot at 0x7fb261a0bc10>"
            ]
          },
          "metadata": {},
          "execution_count": 29
        },
        {
          "output_type": "display_data",
          "data": {
            "text/plain": [
              "<Figure size 432x288 with 1 Axes>"
            ],
            "image/png": "[encoded data removed]"
          },
          "metadata": {
            "needs_background": "light"
          }
        }
      ]
    },
    {
      "cell_type": "markdown",
      "source": [
        "Outra forma de se obter a média dos alunos (mais elegante)"
      ],
      "metadata": {
        "id": "YN7aotUnrdnB"
      }
    },
    {
      "cell_type": "code",
      "source": [
        "novo_df = novo_df[['NU_NOTA_LC', 'NU_NOTA_CN', 'NU_NOTA_MT', 'NU_NOTA_CH', 'NU_NOTA_REDACAO']].mean()"
      ],
      "metadata": {
        "id": "dwsdx0TVrhCt"
      },
      "execution_count": null,
      "outputs": []
    },
    {
      "cell_type": "markdown",
      "source": [
        "Distribuição do número de alunos por nível de renda\n",
        "---\n",
        "\n"
      ],
      "metadata": {
        "id": "4dzkF-E19v8y"
      }
    },
    {
      "cell_type": "markdown",
      "source": [
        "O maior número de alunos têm renda média até 1.045 reais"
      ],
      "metadata": {
        "id": "oqQd4OWDxt55"
      }
    },
    {
      "cell_type": "code",
      "source": [
        "renda = list(string.ascii_uppercase[:17])"
      ],
      "metadata": {
        "id": "38b2me-lt_5R"
      },
      "execution_count": null,
      "outputs": []
    },
    {
      "cell_type": "code",
      "source": [
        "novo_df['Q006'].value_counts().plot.bar(color=\"red\")"
      ],
      "metadata": {
        "colab": {
          "base_uri": "https://localhost:8080/",
          "height": 281
        },
        "id": "FjPS1oAmxVb7",
        "outputId": "3ac365b8-58b0-4d23-8005-99ae0d23eec7"
      },
      "execution_count": null,
      "outputs": [
        {
          "output_type": "execute_result",
          "data": {
            "text/plain": [
              "<matplotlib.axes._subplots.AxesSubplot at 0x7f11611a8910>"
            ]
          },
          "metadata": {},
          "execution_count": 68
        },
        {
          "output_type": "display_data",
          "data": {
            "text/plain": [
              "<Figure size 432x288 with 1 Axes>"
            ],
            "image/png": "[encoded data removed]"
          },
          "metadata": {
            "needs_background": "light"
          }
        }
      ]
    },
    {
      "cell_type": "markdown",
      "source": [
        "Distribuição das médias dos alunos de acordo com renda informada no censo"
      ],
      "metadata": {
        "id": "yrT76Xn6yhXy"
      }
    },
    {
      "cell_type": "code",
      "source": [
        "fig, ax = plt.subplots()\n",
        "fig.set_size_inches(11, 8)\n",
        "\n",
        "\n",
        "sns.violinplot(\n",
        "    \n",
        "    x = 'Q006', \n",
        "    y = 'MEDIA_NOTA',\n",
        "    data=novo_df, \n",
        "    order=renda\n",
        ")\n",
        "\n",
        "plt.title('Distribuição da média por renda')\n",
        "plt.show()"
      ],
      "metadata": {
        "colab": {
          "base_uri": "https://localhost:8080/",
          "height": 513
        },
        "id": "AzUVp_aUyoP9",
        "outputId": "49a7d61a-af14-48e6-fc48-1026d415dab9"
      },
      "execution_count": null,
      "outputs": [
        {
          "output_type": "display_data",
          "data": {
            "text/plain": [
              "<Figure size 792x576 with 1 Axes>"
            ],
            "image/png": "[encoded data removed]"
          },
          "metadata": {
            "needs_background": "light"
          }
        }
      ]
    },
    {
      "cell_type": "markdown",
      "source": [
        "Verificando a distribuição de notas em matemática conforme a renda"
      ],
      "metadata": {
        "id": "zkavOX-INLQy"
      }
    },
    {
      "cell_type": "code",
      "source": [
        "col = 'Q006'\n",
        "nota_matematica = 'NU_NOTA_MT'\n",
        "A = 'Nenhuma Renda'\n",
        "B = 'Até R$ 1.045,00'\n",
        "C = 'De R$ 1.045,01 até R$ 1.567,50'\n",
        "D = 'De R$ 1.567,51 até R$ 2.090,00'\n",
        "E = 'De R$ 2.090,01 até R$ 2.612,50'\n",
        "F = 'De R$ 2.612,51 até R$ 3.135,00'\n",
        "G = 'De R$ 3.135,01 até R$ 4.180,00'\n",
        "H = 'De R$ 4.180,01 até R$ 5.225,00'\n",
        "I = 'De R$ 5.225,01 até R$ 6.270,00'\n",
        "J = 'De R$ 6.270,01 até R$ 7.315,00'\n",
        "K = 'De R$ 7.315,01 até R$ 8.360,00'\n",
        "L = 'De R$ 8.360,01 até R$ 9.405,00'\n",
        "M = 'De R$ 9.405,01 até R$ 10.450,00'\n",
        "N = 'De R$ 10.450,01 até R$ 12.540,00'\n",
        "O = 'De R$ 12.540,01 até R$ 15.675,00'\n",
        "P = 'De R$ 15.675,01 até R$ 20.900,00'\n",
        "Q = 'Acima de R$ 20.900,00'\n"
      ],
      "metadata": {
        "id": "niLU8XO4NP6K"
      },
      "execution_count": null,
      "outputs": []
    },
    {
      "cell_type": "code",
      "source": [
        "categoria = pd.concat([novo_df[nota_matematica], novo_df[col].map({'A':A, 'B':B, 'C':C, 'D':D, 'E':E, 'F':F, 'G':G, 'H':H, 'I':I, \n",
        " 'J':J, 'K':K, 'L':L, 'M':M, 'N':N, 'O':O, 'P':P, 'Q':Q                                   \n",
        "                                    \n",
        "                                    })], axis=1)"
      ],
      "metadata": {
        "id": "FLAWfvjHORFz"
      },
      "execution_count": null,
      "outputs": []
    },
    {
      "cell_type": "code",
      "source": [
        "fig, ax = plt.subplots(figsize=(14, 6))\n",
        "fig = sns.barplot(x = col, y = nota_matematica, data=categoria, order=[A, B, C, D, E, F, G, H, I, J, K, L, M, N, O, P, Q], estimator=np.mean)\n",
        "\n",
        "fig.axis(ymin=320)\n",
        "\n",
        "ax.set_xticklabels(ax.get_xticklabels(), rotation=80)\n",
        "\n",
        "ax.set(ylabel='Nota de matemática')\n",
        "ax.set(xlabel='')\n",
        "ax.set(title='Distribuição das notas por renda')"
      ],
      "metadata": {
        "colab": {
          "base_uri": "https://localhost:8080/",
          "height": 552
        },
        "id": "rXmHxidwQVv-",
        "outputId": "cb04531b-71dd-4f2b-914d-11e6208f28d8"
      },
      "execution_count": null,
      "outputs": [
        {
          "output_type": "execute_result",
          "data": {
            "text/plain": [
              "[Text(0.5, 1.0, 'Distribuição das notas por renda')]"
            ]
          },
          "metadata": {},
          "execution_count": 72
        },
        {
          "output_type": "display_data",
          "data": {
            "text/plain": [
              "<Figure size 1008x432 with 1 Axes>"
            ],
            "image/png": "[encoded data removed]"
          },
          "metadata": {
            "needs_background": "light"
          }
        }
      ]
    },
    {
      "cell_type": "markdown",
      "source": [
        "Distribuição das notas em relação ao sexo do candidato"
      ],
      "metadata": {
        "id": "iryrtTzHJvtb"
      }
    },
    {
      "cell_type": "code",
      "source": [
        "dist_sexo = ['TP_SEXO', 'NU_NOTA_REDACAO']\n"
      ],
      "metadata": {
        "id": "Gv813yrtJ0LY"
      },
      "execution_count": null,
      "outputs": []
    },
    {
      "cell_type": "code",
      "source": [
        "dataframe_sexo = novo_df.filter(items = dist_sexo).dropna()"
      ],
      "metadata": {
        "id": "55YEZ-EHKKI1"
      },
      "execution_count": null,
      "outputs": []
    },
    {
      "cell_type": "code",
      "source": [
        "dataframe_sexo.head()\n"
      ],
      "metadata": {
        "colab": {
          "base_uri": "https://localhost:8080/",
          "height": 206
        },
        "id": "Ue1H5mdCKTvp",
        "outputId": "ce53bfe5-9a2d-45be-de2e-9a5ade36f7f3"
      },
      "execution_count": null,
      "outputs": [
        {
          "output_type": "execute_result",
          "data": {
            "text/plain": [
              "    TP_SEXO  NU_NOTA_REDACAO\n",
              "88        M            700.0\n",
              "321       M            580.0\n",
              "583       F            960.0\n",
              "623       F            960.0\n",
              "829       M            580.0"
            ],
            "text/html": [
              "\n",
              "  <div id=\"df-163d5667-505b-4e8c-b324-bc0dbbef63e1\">\n",
              "    <div class=\"colab-df-container\">\n",
              "      <div>\n",
              "<style scoped>\n",
              "    .dataframe tbody tr th:only-of-type {\n",
              "        vertical-align: middle;\n",
              "    }\n",
              "\n",
              "    .dataframe tbody tr th {\n",
              "        vertical-align: top;\n",
              "    }\n",
              "\n",
              "    .dataframe thead th {\n",
              "        text-align: right;\n",
              "    }\n",
              "</style>\n",
              "<table border=\"1\" class=\"dataframe\">\n",
              "  <thead>\n",
              "    <tr style=\"text-align: right;\">\n",
              "      <th></th>\n",
              "      <th>TP_SEXO</th>\n",
              "      <th>NU_NOTA_REDACAO</th>\n",
              "    </tr>\n",
              "  </thead>\n",
              "  <tbody>\n",
              "    <tr>\n",
              "      <th>88</th>\n",
              "      <td>M</td>\n",
              "      <td>700.0</td>\n",
              "    </tr>\n",
              "    <tr>\n",
              "      <th>321</th>\n",
              "      <td>M</td>\n",
              "      <td>580.0</td>\n",
              "    </tr>\n",
              "    <tr>\n",
              "      <th>583</th>\n",
              "      <td>F</td>\n",
              "      <td>960.0</td>\n",
              "    </tr>\n",
              "    <tr>\n",
              "      <th>623</th>\n",
              "      <td>F</td>\n",
              "      <td>960.0</td>\n",
              "    </tr>\n",
              "    <tr>\n",
              "      <th>829</th>\n",
              "      <td>M</td>\n",
              "      <td>580.0</td>\n",
              "    </tr>\n",
              "  </tbody>\n",
              "</table>\n",
              "</div>\n",
              "      <button class=\"colab-df-convert\" onclick=\"convertToInteractive('df-163d5667-505b-4e8c-b324-bc0dbbef63e1')\"\n",
              "              title=\"Convert this dataframe to an interactive table.\"\n",
              "              style=\"display:none;\">\n",
              "        \n",
              "  <svg xmlns=\"http://www.w3.org/2000/svg\" height=\"24px\"viewBox=\"0 0 24 24\"\n",
              "       width=\"24px\">\n",
              "    <path d=\"M0 0h24v24H0V0z\" fill=\"none\"/>\n",
              "    <path d=\"M18.56 5.44l.94 2.06.94-2.06 2.06-.94-2.06-.94-.94-2.06-.94 2.06-2.06.94zm-11 1L8.5 8.5l.94-2.06 2.06-.94-2.06-.94L8.5 2.5l-.94 2.06-2.06.94zm10 10l.94 2.06.94-2.06 2.06-.94-2.06-.94-.94-2.06-.94 2.06-2.06.94z\"/><path d=\"M17.41 7.96l-1.37-1.37c-.4-.4-.92-.59-1.43-.59-.52 0-1.04.2-1.43.59L10.3 9.45l-7.72 7.72c-.78.78-.78 2.05 0 2.83L4 21.41c.39.39.9.59 1.41.59.51 0 1.02-.2 1.41-.59l7.78-7.78 2.81-2.81c.8-.78.8-2.07 0-2.86zM5.41 20L4 18.59l7.72-7.72 1.47 1.35L5.41 20z\"/>\n",
              "  </svg>\n",
              "      </button>\n",
              "      \n",
              "  <style>\n",
              "    .colab-df-container {\n",
              "      display:flex;\n",
              "      flex-wrap:wrap;\n",
              "      gap: 12px;\n",
              "    }\n",
              "\n",
              "    .colab-df-convert {\n",
              "      background-color: #E8F0FE;\n",
              "      border: none;\n",
              "      border-radius: 50%;\n",
              "      cursor: pointer;\n",
              "      display: none;\n",
              "      fill: #1967D2;\n",
              "      height: 32px;\n",
              "      padding: 0 0 0 0;\n",
              "      width: 32px;\n",
              "    }\n",
              "\n",
              "    .colab-df-convert:hover {\n",
              "      background-color: #E2EBFA;\n",
              "      box-shadow: 0px 1px 2px rgba(60, 64, 67, 0.3), 0px 1px 3px 1px rgba(60, 64, 67, 0.15);\n",
              "      fill: #174EA6;\n",
              "    }\n",
              "\n",
              "    [theme=dark] .colab-df-convert {\n",
              "      background-color: #3B4455;\n",
              "      fill: #D2E3FC;\n",
              "    }\n",
              "\n",
              "    [theme=dark] .colab-df-convert:hover {\n",
              "      background-color: #434B5C;\n",
              "      box-shadow: 0px 1px 3px 1px rgba(0, 0, 0, 0.15);\n",
              "      filter: drop-shadow(0px 1px 2px rgba(0, 0, 0, 0.3));\n",
              "      fill: #FFFFFF;\n",
              "    }\n",
              "  </style>\n",
              "\n",
              "      <script>\n",
              "        const buttonEl =\n",
              "          document.querySelector('#df-163d5667-505b-4e8c-b324-bc0dbbef63e1 button.colab-df-convert');\n",
              "        buttonEl.style.display =\n",
              "          google.colab.kernel.accessAllowed ? 'block' : 'none';\n",
              "\n",
              "        async function convertToInteractive(key) {\n",
              "          const element = document.querySelector('#df-163d5667-505b-4e8c-b324-bc0dbbef63e1');\n",
              "          const dataTable =\n",
              "            await google.colab.kernel.invokeFunction('convertToInteractive',\n",
              "                                                     [key], {});\n",
              "          if (!dataTable) return;\n",
              "\n",
              "          const docLinkHtml = 'Like what you see? Visit the ' +\n",
              "            '<a target=\"_blank\" href=https://colab.research.google.com/notebooks/data_table.ipynb>data table notebook</a>'\n",
              "            + ' to learn more about interactive tables.';\n",
              "          element.innerHTML = '';\n",
              "          dataTable['output_type'] = 'display_data';\n",
              "          await google.colab.output.renderOutput(dataTable, element);\n",
              "          const docLink = document.createElement('div');\n",
              "          docLink.innerHTML = docLinkHtml;\n",
              "          element.appendChild(docLink);\n",
              "        }\n",
              "      </script>\n",
              "    </div>\n",
              "  </div>\n",
              "  "
            ]
          },
          "metadata": {},
          "execution_count": 27
        }
      ]
    },
    {
      "cell_type": "markdown",
      "source": [
        "Agrupa por sexo"
      ],
      "metadata": {
        "id": "qLAa1yiLK1yF"
      }
    },
    {
      "cell_type": "code",
      "source": [
        "dataframe_sexo.groupby('TP_SEXO').count()"
      ],
      "metadata": {
        "colab": {
          "base_uri": "https://localhost:8080/",
          "height": 143
        },
        "id": "C4ePeFeJK3TZ",
        "outputId": "61d114a6-61b6-4bd4-bcbe-c35f3ab76d4a"
      },
      "execution_count": null,
      "outputs": [
        {
          "output_type": "execute_result",
          "data": {
            "text/plain": [
              "         NU_NOTA_REDACAO\n",
              "TP_SEXO                 \n",
              "F                  30622\n",
              "M                  17815"
            ],
            "text/html": [
              "\n",
              "  <div id=\"df-a3d10cd5-2910-4d83-b15b-f2e3805ec560\">\n",
              "    <div class=\"colab-df-container\">\n",
              "      <div>\n",
              "<style scoped>\n",
              "    .dataframe tbody tr th:only-of-type {\n",
              "        vertical-align: middle;\n",
              "    }\n",
              "\n",
              "    .dataframe tbody tr th {\n",
              "        vertical-align: top;\n",
              "    }\n",
              "\n",
              "    .dataframe thead th {\n",
              "        text-align: right;\n",
              "    }\n",
              "</style>\n",
              "<table border=\"1\" class=\"dataframe\">\n",
              "  <thead>\n",
              "    <tr style=\"text-align: right;\">\n",
              "      <th></th>\n",
              "      <th>NU_NOTA_REDACAO</th>\n",
              "    </tr>\n",
              "    <tr>\n",
              "      <th>TP_SEXO</th>\n",
              "      <th></th>\n",
              "    </tr>\n",
              "  </thead>\n",
              "  <tbody>\n",
              "    <tr>\n",
              "      <th>F</th>\n",
              "      <td>30622</td>\n",
              "    </tr>\n",
              "    <tr>\n",
              "      <th>M</th>\n",
              "      <td>17815</td>\n",
              "    </tr>\n",
              "  </tbody>\n",
              "</table>\n",
              "</div>\n",
              "      <button class=\"colab-df-convert\" onclick=\"convertToInteractive('df-a3d10cd5-2910-4d83-b15b-f2e3805ec560')\"\n",
              "              title=\"Convert this dataframe to an interactive table.\"\n",
              "              style=\"display:none;\">\n",
              "        \n",
              "  <svg xmlns=\"http://www.w3.org/2000/svg\" height=\"24px\"viewBox=\"0 0 24 24\"\n",
              "       width=\"24px\">\n",
              "    <path d=\"M0 0h24v24H0V0z\" fill=\"none\"/>\n",
              "    <path d=\"M18.56 5.44l.94 2.06.94-2.06 2.06-.94-2.06-.94-.94-2.06-.94 2.06-2.06.94zm-11 1L8.5 8.5l.94-2.06 2.06-.94-2.06-.94L8.5 2.5l-.94 2.06-2.06.94zm10 10l.94 2.06.94-2.06 2.06-.94-2.06-.94-.94-2.06-.94 2.06-2.06.94z\"/><path d=\"M17.41 7.96l-1.37-1.37c-.4-.4-.92-.59-1.43-.59-.52 0-1.04.2-1.43.59L10.3 9.45l-7.72 7.72c-.78.78-.78 2.05 0 2.83L4 21.41c.39.39.9.59 1.41.59.51 0 1.02-.2 1.41-.59l7.78-7.78 2.81-2.81c.8-.78.8-2.07 0-2.86zM5.41 20L4 18.59l7.72-7.72 1.47 1.35L5.41 20z\"/>\n",
              "  </svg>\n",
              "      </button>\n",
              "      \n",
              "  <style>\n",
              "    .colab-df-container {\n",
              "      display:flex;\n",
              "      flex-wrap:wrap;\n",
              "      gap: 12px;\n",
              "    }\n",
              "\n",
              "    .colab-df-convert {\n",
              "      background-color: #E8F0FE;\n",
              "      border: none;\n",
              "      border-radius: 50%;\n",
              "      cursor: pointer;\n",
              "      display: none;\n",
              "      fill: #1967D2;\n",
              "      height: 32px;\n",
              "      padding: 0 0 0 0;\n",
              "      width: 32px;\n",
              "    }\n",
              "\n",
              "    .colab-df-convert:hover {\n",
              "      background-color: #E2EBFA;\n",
              "      box-shadow: 0px 1px 2px rgba(60, 64, 67, 0.3), 0px 1px 3px 1px rgba(60, 64, 67, 0.15);\n",
              "      fill: #174EA6;\n",
              "    }\n",
              "\n",
              "    [theme=dark] .colab-df-convert {\n",
              "      background-color: #3B4455;\n",
              "      fill: #D2E3FC;\n",
              "    }\n",
              "\n",
              "    [theme=dark] .colab-df-convert:hover {\n",
              "      background-color: #434B5C;\n",
              "      box-shadow: 0px 1px 3px 1px rgba(0, 0, 0, 0.15);\n",
              "      filter: drop-shadow(0px 1px 2px rgba(0, 0, 0, 0.3));\n",
              "      fill: #FFFFFF;\n",
              "    }\n",
              "  </style>\n",
              "\n",
              "      <script>\n",
              "        const buttonEl =\n",
              "          document.querySelector('#df-a3d10cd5-2910-4d83-b15b-f2e3805ec560 button.colab-df-convert');\n",
              "        buttonEl.style.display =\n",
              "          google.colab.kernel.accessAllowed ? 'block' : 'none';\n",
              "\n",
              "        async function convertToInteractive(key) {\n",
              "          const element = document.querySelector('#df-a3d10cd5-2910-4d83-b15b-f2e3805ec560');\n",
              "          const dataTable =\n",
              "            await google.colab.kernel.invokeFunction('convertToInteractive',\n",
              "                                                     [key], {});\n",
              "          if (!dataTable) return;\n",
              "\n",
              "          const docLinkHtml = 'Like what you see? Visit the ' +\n",
              "            '<a target=\"_blank\" href=https://colab.research.google.com/notebooks/data_table.ipynb>data table notebook</a>'\n",
              "            + ' to learn more about interactive tables.';\n",
              "          element.innerHTML = '';\n",
              "          dataTable['output_type'] = 'display_data';\n",
              "          await google.colab.output.renderOutput(dataTable, element);\n",
              "          const docLink = document.createElement('div');\n",
              "          docLink.innerHTML = docLinkHtml;\n",
              "          element.appendChild(docLink);\n",
              "        }\n",
              "      </script>\n",
              "    </div>\n",
              "  </div>\n",
              "  "
            ]
          },
          "metadata": {},
          "execution_count": 30
        }
      ]
    },
    {
      "cell_type": "markdown",
      "source": [
        "Nota máxima"
      ],
      "metadata": {
        "id": "pL25J758LVk_"
      }
    },
    {
      "cell_type": "code",
      "source": [
        "dataframe_sexo.groupby('TP_SEXO').max()"
      ],
      "metadata": {
        "colab": {
          "base_uri": "https://localhost:8080/",
          "height": 143
        },
        "id": "GrRERspjLWv4",
        "outputId": "3b33f202-fae6-4f4d-88fe-4cef5d544c16"
      },
      "execution_count": null,
      "outputs": [
        {
          "output_type": "execute_result",
          "data": {
            "text/plain": [
              "         NU_NOTA_REDACAO\n",
              "TP_SEXO                 \n",
              "F                 1000.0\n",
              "M                  980.0"
            ],
            "text/html": [
              "\n",
              "  <div id=\"df-9d8a8f31-6035-4426-aba8-354bf4c178d3\">\n",
              "    <div class=\"colab-df-container\">\n",
              "      <div>\n",
              "<style scoped>\n",
              "    .dataframe tbody tr th:only-of-type {\n",
              "        vertical-align: middle;\n",
              "    }\n",
              "\n",
              "    .dataframe tbody tr th {\n",
              "        vertical-align: top;\n",
              "    }\n",
              "\n",
              "    .dataframe thead th {\n",
              "        text-align: right;\n",
              "    }\n",
              "</style>\n",
              "<table border=\"1\" class=\"dataframe\">\n",
              "  <thead>\n",
              "    <tr style=\"text-align: right;\">\n",
              "      <th></th>\n",
              "      <th>NU_NOTA_REDACAO</th>\n",
              "    </tr>\n",
              "    <tr>\n",
              "      <th>TP_SEXO</th>\n",
              "      <th></th>\n",
              "    </tr>\n",
              "  </thead>\n",
              "  <tbody>\n",
              "    <tr>\n",
              "      <th>F</th>\n",
              "      <td>1000.0</td>\n",
              "    </tr>\n",
              "    <tr>\n",
              "      <th>M</th>\n",
              "      <td>980.0</td>\n",
              "    </tr>\n",
              "  </tbody>\n",
              "</table>\n",
              "</div>\n",
              "      <button class=\"colab-df-convert\" onclick=\"convertToInteractive('df-9d8a8f31-6035-4426-aba8-354bf4c178d3')\"\n",
              "              title=\"Convert this dataframe to an interactive table.\"\n",
              "              style=\"display:none;\">\n",
              "        \n",
              "  <svg xmlns=\"http://www.w3.org/2000/svg\" height=\"24px\"viewBox=\"0 0 24 24\"\n",
              "       width=\"24px\">\n",
              "    <path d=\"M0 0h24v24H0V0z\" fill=\"none\"/>\n",
              "    <path d=\"M18.56 5.44l.94 2.06.94-2.06 2.06-.94-2.06-.94-.94-2.06-.94 2.06-2.06.94zm-11 1L8.5 8.5l.94-2.06 2.06-.94-2.06-.94L8.5 2.5l-.94 2.06-2.06.94zm10 10l.94 2.06.94-2.06 2.06-.94-2.06-.94-.94-2.06-.94 2.06-2.06.94z\"/><path d=\"M17.41 7.96l-1.37-1.37c-.4-.4-.92-.59-1.43-.59-.52 0-1.04.2-1.43.59L10.3 9.45l-7.72 7.72c-.78.78-.78 2.05 0 2.83L4 21.41c.39.39.9.59 1.41.59.51 0 1.02-.2 1.41-.59l7.78-7.78 2.81-2.81c.8-.78.8-2.07 0-2.86zM5.41 20L4 18.59l7.72-7.72 1.47 1.35L5.41 20z\"/>\n",
              "  </svg>\n",
              "      </button>\n",
              "      \n",
              "  <style>\n",
              "    .colab-df-container {\n",
              "      display:flex;\n",
              "      flex-wrap:wrap;\n",
              "      gap: 12px;\n",
              "    }\n",
              "\n",
              "    .colab-df-convert {\n",
              "      background-color: #E8F0FE;\n",
              "      border: none;\n",
              "      border-radius: 50%;\n",
              "      cursor: pointer;\n",
              "      display: none;\n",
              "      fill: #1967D2;\n",
              "      height: 32px;\n",
              "      padding: 0 0 0 0;\n",
              "      width: 32px;\n",
              "    }\n",
              "\n",
              "    .colab-df-convert:hover {\n",
              "      background-color: #E2EBFA;\n",
              "      box-shadow: 0px 1px 2px rgba(60, 64, 67, 0.3), 0px 1px 3px 1px rgba(60, 64, 67, 0.15);\n",
              "      fill: #174EA6;\n",
              "    }\n",
              "\n",
              "    [theme=dark] .colab-df-convert {\n",
              "      background-color: #3B4455;\n",
              "      fill: #D2E3FC;\n",
              "    }\n",
              "\n",
              "    [theme=dark] .colab-df-convert:hover {\n",
              "      background-color: #434B5C;\n",
              "      box-shadow: 0px 1px 3px 1px rgba(0, 0, 0, 0.15);\n",
              "      filter: drop-shadow(0px 1px 2px rgba(0, 0, 0, 0.3));\n",
              "      fill: #FFFFFF;\n",
              "    }\n",
              "  </style>\n",
              "\n",
              "      <script>\n",
              "        const buttonEl =\n",
              "          document.querySelector('#df-9d8a8f31-6035-4426-aba8-354bf4c178d3 button.colab-df-convert');\n",
              "        buttonEl.style.display =\n",
              "          google.colab.kernel.accessAllowed ? 'block' : 'none';\n",
              "\n",
              "        async function convertToInteractive(key) {\n",
              "          const element = document.querySelector('#df-9d8a8f31-6035-4426-aba8-354bf4c178d3');\n",
              "          const dataTable =\n",
              "            await google.colab.kernel.invokeFunction('convertToInteractive',\n",
              "                                                     [key], {});\n",
              "          if (!dataTable) return;\n",
              "\n",
              "          const docLinkHtml = 'Like what you see? Visit the ' +\n",
              "            '<a target=\"_blank\" href=https://colab.research.google.com/notebooks/data_table.ipynb>data table notebook</a>'\n",
              "            + ' to learn more about interactive tables.';\n",
              "          element.innerHTML = '';\n",
              "          dataTable['output_type'] = 'display_data';\n",
              "          await google.colab.output.renderOutput(dataTable, element);\n",
              "          const docLink = document.createElement('div');\n",
              "          docLink.innerHTML = docLinkHtml;\n",
              "          element.appendChild(docLink);\n",
              "        }\n",
              "      </script>\n",
              "    </div>\n",
              "  </div>\n",
              "  "
            ]
          },
          "metadata": {},
          "execution_count": 31
        }
      ]
    },
    {
      "cell_type": "markdown",
      "source": [
        "Distribuição das notas de Ciências da Natureza por sexo"
      ],
      "metadata": {
        "id": "I4mYD2ENk4Tv"
      }
    },
    {
      "cell_type": "code",
      "source": [
        "var_dependente = 'NU_NOTA_CN'\n",
        "\n",
        "var = 'TP_SEXO'\n",
        "\n",
        "\n",
        "plotdata = pd.concat([novo_df[var_dependente], novo_df[var]], axis=1)\n",
        "\n",
        "f, ax = plt.subplots(figsize=(8, 6))\n",
        "\n",
        "fig = sns.boxplot(x=var, y = var_dependente, data=plotdata, showmeans=True)\n",
        "\n",
        "fig.axis(ymin=320)\n",
        "ax.set(ylabel='Nota Ciências da Natureza')\n",
        "ax.set(xlabel='')\n",
        "ax.set(title='Sexo')\n",
        "\n",
        "\n",
        "\n"
      ],
      "metadata": {
        "colab": {
          "base_uri": "https://localhost:8080/",
          "height": 407
        },
        "id": "5lMKzSL4k824",
        "outputId": "41143849-1824-40a7-ec2d-ea83cd6b8fd8"
      },
      "execution_count": null,
      "outputs": [
        {
          "output_type": "execute_result",
          "data": {
            "text/plain": [
              "[Text(0.5, 1.0, 'Sexo')]"
            ]
          },
          "metadata": {},
          "execution_count": 53
        },
        {
          "output_type": "display_data",
          "data": {
            "text/plain": [
              "<Figure size 576x432 with 1 Axes>"
            ],
            "image/png": "[encoded data removed]"
          },
          "metadata": {
            "needs_background": "light"
          }
        }
      ]
    },
    {
      "cell_type": "markdown",
      "source": [
        "Distribuição das notas de matemática por raça/cor"
      ],
      "metadata": {
        "id": "Jp_KcOWfmnQh"
      }
    },
    {
      "cell_type": "markdown",
      "source": [
        "Existe uma ligeira vantagem dos brancos em relação às outras raças, mas nada que sirva adequadamente para prever uma nota alta em matemática. "
      ],
      "metadata": {
        "id": "2NeGn17VoVUY"
      }
    },
    {
      "cell_type": "code",
      "source": [
        "var_dependente  = 'NU_NOTA_MT'\n",
        "\n",
        "A = 'NÃO DECLARADO'\n",
        "B = 'BRANCA'\n",
        "C = 'PRETA'\n",
        "D = 'PARDA'\n",
        "E = 'AMARELA'\n",
        "F = 'INDÍGENA'\n",
        "\n",
        "\n",
        "var = 'TP_COR_RACA'\n",
        "\n",
        "\n",
        "plotdata = pd.concat([novo_df[var_dependente], novo_df[var].map({0:A, 1: B, 2:C, 3:D, 4:E, 5:F})], axis=1)\n",
        "\n",
        "f, ax = plt.subplots(figsize=(8, 6))\n",
        "\n",
        "fig = sns.boxplot(x = var, y = var_dependente, data=plotdata, order=[A, B, C, D, E, F], showmeans=True)\n",
        "\n",
        "fig.axis(ymin=320)\n",
        "\n",
        "fig.set(ylabel='Nota de Matemática')\n",
        "fig.set(xlabel='')\n",
        "fig.set(title=\"Distribuição das notas por raça\")\n",
        "\n",
        "\n",
        "\n",
        "\n",
        "\n"
      ],
      "metadata": {
        "colab": {
          "base_uri": "https://localhost:8080/",
          "height": 407
        },
        "id": "-tKTOhmamqOs",
        "outputId": "ee5f3b0d-7cf3-43e7-c3b9-e448e2980b15"
      },
      "execution_count": null,
      "outputs": [
        {
          "output_type": "execute_result",
          "data": {
            "text/plain": [
              "[Text(0.5, 1.0, 'Distribuição das notas por raça')]"
            ]
          },
          "metadata": {},
          "execution_count": 55
        },
        {
          "output_type": "display_data",
          "data": {
            "text/plain": [
              "<Figure size 576x432 with 1 Axes>"
            ],
            "image/png": "[encoded data removed]"
          },
          "metadata": {
            "needs_background": "light"
          }
        }
      ]
    },
    {
      "cell_type": "markdown",
      "source": [
        "Média dos alunos por tipo de escola"
      ],
      "metadata": {
        "id": "PahJMmLmsV3A"
      }
    },
    {
      "cell_type": "code",
      "source": [
        "var_dependente = 'MEDIA_NOTA'\n",
        "\n",
        "var = 'TP_ESCOLA'\n",
        "\n",
        "A = 'NÃO RESPONDEU'\n",
        "B = 'PÚBLICA'\n",
        "C = 'PRIVADA'\n",
        "D = 'EXTERIOR'\n",
        "\n",
        "\n",
        "plotzinho = pd.concat([novo_df[var_dependente], novo_df[var].map({1:A, 2:B, 3:C, 4: D})], axis=1)\n",
        "\n",
        "\n",
        "f, ax = plt.subplots(figsize=(8, 6))\n",
        "\n",
        "fig = sns.boxplot(x = var, y = var_dependente, data = plotzinho, order = [A, B, C, D], showmeans=True)\n",
        "\n",
        "\n",
        "fig.axis(ymin=320)\n",
        "\n",
        "fig.set(ylabel='Média dos estudantes')\n",
        "fig.set(xlabel='')\n",
        "fig.set(title='Distribuição das médias dos alunos por tipo de escola')\n",
        "\n",
        "\n",
        "\n",
        "\n",
        "\n",
        "\n"
      ],
      "metadata": {
        "colab": {
          "base_uri": "https://localhost:8080/",
          "height": 407
        },
        "id": "4-ASHQxmsYTb",
        "outputId": "97b5fe99-f93f-46b4-9ac5-b22b8805a58e"
      },
      "execution_count": null,
      "outputs": [
        {
          "output_type": "execute_result",
          "data": {
            "text/plain": [
              "[Text(0.5, 1.0, 'Distribuição das médias dos alunos por tipo de escola')]"
            ]
          },
          "metadata": {},
          "execution_count": 62
        },
        {
          "output_type": "display_data",
          "data": {
            "text/plain": [
              "<Figure size 576x432 with 1 Axes>"
            ],
            "image/png": "[encoded data removed]"
          },
          "metadata": {
            "needs_background": "light"
          }
        }
      ]
    },
    {
      "cell_type": "markdown",
      "source": [
        "Distribuição da nota da redação por renda"
      ],
      "metadata": {
        "id": "15oT5KfJphGB"
      }
    },
    {
      "cell_type": "markdown",
      "source": [
        "As notas das redações, como se vê, também são influenciadas pela renda familiar."
      ],
      "metadata": {
        "id": "gXQ0dBQXtFIJ"
      }
    },
    {
      "cell_type": "code",
      "source": [
        "var_dependente = 'NU_NOTA_REDACAO'\n",
        "\n",
        "col_teste = 'Q006'\n",
        "\n",
        "\n",
        "A = 'Nenhuma Renda'\n",
        "B = 'Até R$ 1.045,00'\n",
        "C = 'De R$ 1.045,01 até R$ 1.567,50'\n",
        "D = 'De R$ 1.567,51 até R$ 2.090,00'\n",
        "E = 'De R$ 2.090,01 até R$ 2.612,50'\n",
        "F = 'De R$ 2.612,51 até R$ 3.135,00'\n",
        "G = 'De R$ 3.135,01 até R$ 4.180,00'\n",
        "H = 'De R$ 4.180,01 até R$ 5.225,00'\n",
        "I = 'De R$ 5.225,01 até R$ 6.270,00'\n",
        "J = 'De R$ 6.270,01 até R$ 7.315,00'\n",
        "K = 'De R$ 7.315,01 até R$ 8.360,00'\n",
        "L = 'De R$ 8.360,01 até R$ 9.405,00'\n",
        "M = 'De R$ 9.405,01 até R$ 10.450,00'\n",
        "N = 'De R$ 10.450,01 até R$ 12.540,00'\n",
        "O = 'De R$ 12.540,01 até R$ 15.675,00'\n",
        "P = 'De R$ 15.675,01 até R$ 20.900,00'\n",
        "Q = 'Acima de R$ 20.900,00'\n",
        "\n",
        "\n",
        "\n",
        "\n"
      ],
      "metadata": {
        "id": "kJbFGA6tpsUa"
      },
      "execution_count": null,
      "outputs": []
    },
    {
      "cell_type": "code",
      "source": [
        "df_redacao = pd.concat([novo_df[var_dependente], novo_df[col_teste].map({'A':A, 'B':B, 'C':C, 'D':D, 'E':E, 'F':F, 'G':G, 'H':H, 'I':I, \n",
        " 'J':J, 'K':K, 'L':L, 'M':M, 'N':N, 'O':O, 'P':P, 'Q':Q                                   \n",
        "                                    \n",
        "                                    })], axis=1)"
      ],
      "metadata": {
        "id": "7rJ4bYJoqHre"
      },
      "execution_count": null,
      "outputs": []
    },
    {
      "cell_type": "code",
      "source": [
        "f, ax = plt.subplots(figsize=(14, 6))\n",
        "fig = sns.barplot(x = col_teste, y = var_dependente, data=df_redacao, order=[A, B, C, D, E, F, G, H, I, J, K, L, M, N, O, P, Q], estimator=np.mean)\n",
        "\n",
        "\n",
        "fig.axis(ymin=320)\n",
        "\n",
        "ax.set_xticklabels(ax.get_xticklabels(), rotation=80)\n",
        "\n",
        "fig.set(ylabel='Nota redação dos participantes')\n",
        "\n",
        "fig.set(xlabel='')\n",
        "\n",
        "fig.set(title='Distribuição dos participantes por nota de redação')\n",
        "\n",
        "\n",
        "\n",
        "\n",
        "\n"
      ],
      "metadata": {
        "colab": {
          "base_uri": "https://localhost:8080/",
          "height": 552
        },
        "id": "fGx8Ww4xqMSU",
        "outputId": "caf9e90c-3dc0-4c40-ca27-7de35b8b8b9d"
      },
      "execution_count": null,
      "outputs": [
        {
          "output_type": "execute_result",
          "data": {
            "text/plain": [
              "[Text(0.5, 1.0, 'Distribuição dos participantes por nota de redação')]"
            ]
          },
          "metadata": {},
          "execution_count": 18
        },
        {
          "output_type": "display_data",
          "data": {
            "text/plain": [
              "<Figure size 1008x432 with 1 Axes>"
            ],
            "image/png": "[encoded data removed]"
          },
          "metadata": {
            "needs_background": "light"
          }
        }
      ]
    },
    {
      "cell_type": "markdown",
      "source": [
        "Notas da redações dos candidatos distribuídas em torno da escoloridade da mãe"
      ],
      "metadata": {
        "id": "fiZkTJ7kBWsb"
      }
    },
    {
      "cell_type": "code",
      "source": [
        "A = 'NUNCA ESTUDOU'\n",
        "B = 'NÃO ESTUDOU A 4 SÉRIE/5 ANO DO FUNDAMENTAL'\n",
        "C = 'COMPLETOU A QUARTA SÉRIE, MAS NÃO O 8 ANO'\n",
        "D = 'COMPLETOU A 8 SERIE, MAS NÃO O ENSINO MÉDIO'\n",
        "E = 'COMPLETOU O ENSINO MÉDIO, MAS NÃO A FACULDADE'\n",
        "F = 'FEZ FACULDADE, MAS NÃO PÓS'\n",
        "G = 'COMPLETOU PÓS'\n",
        "H = 'NÃO SEI'\n",
        "\n",
        "\n",
        "var_int = 'NU_NOTA_REDACAO'\n",
        "\n",
        "col_socio = 'Q002'\n",
        "\n",
        "\n",
        "\n",
        "plotdata = pd.concat([novo_df[var_int], novo_df[col_socio].map({'A': A, 'B':B, 'C':C, 'D':D, 'E':E, 'F':F, 'G':G, 'H':H})], axis=1)\n",
        "\n",
        "f, ax = plt.subplots(figsize=(14, 6))\n",
        "\n",
        "fig = sns.barplot(x = col_socio, y = var_int, data=plotdata, order=[A, B, C, D, E, F, G, H], estimator=np.mean)\n",
        "\n",
        "fig.axis(ymin=320)\n",
        "ax.set_xticklabels(ax.get_xticklabels(), rotation=80)\n",
        "fig.set(ylabel='Nota da Redação')\n",
        "fig.set(xlabel='')\n",
        "fig.set(title='Distribuição das notas da redação segundo a escolaridade da mãe')\n",
        "\n",
        "\n",
        "\n",
        "\n",
        "\n"
      ],
      "metadata": {
        "colab": {
          "base_uri": "https://localhost:8080/",
          "height": 672
        },
        "id": "tux557S0DTxf",
        "outputId": "ad296792-a581-4b8e-8515-2cbd677aa1b9"
      },
      "execution_count": null,
      "outputs": [
        {
          "output_type": "execute_result",
          "data": {
            "text/plain": [
              "[Text(0.5, 1.0, 'Distribuição das notas da redação segundo a escolaridade da mãe')]"
            ]
          },
          "metadata": {},
          "execution_count": 25
        },
        {
          "output_type": "display_data",
          "data": {
            "text/plain": [
              "<Figure size 1008x432 with 1 Axes>"
            ],
            "image/png": "[encoded data removed]"
          },
          "metadata": {
            "needs_background": "light"
          }
        }
      ]
    },
    {
      "cell_type": "markdown",
      "source": [
        "Exemplo com scikit-learn para construção de árvore de decisão"
      ],
      "metadata": {
        "id": "qzpxSe1zaVx0"
      }
    },
    {
      "cell_type": "code",
      "source": [
        "from sklearn.model_selection import train_test_split\n",
        "from sklearn.tree import DecisionTreeClassifier\n",
        "from sklearn import preprocessing\n",
        "from sklearn import utils\n"
      ],
      "metadata": {
        "id": "Upppgn9AbLx6"
      },
      "execution_count": null,
      "outputs": []
    },
    {
      "cell_type": "code",
      "source": [
        "features = ['NU_NOTA_CN', 'NU_NOTA_CH', 'NU_NOTA_LC', 'NU_NOTA_MT', 'NU_NOTA_REDACAO']\n",
        "\n",
        "df_enem = novo_df.filter(items=features)\n"
      ],
      "metadata": {
        "id": "nwxENrlEZdL2"
      },
      "execution_count": null,
      "outputs": []
    },
    {
      "cell_type": "markdown",
      "source": [
        "Verificando a correlação das variáveis acima através de um mapa de calor"
      ],
      "metadata": {
        "id": "og74TyEJZc38"
      }
    },
    {
      "cell_type": "code",
      "source": [
        "plt.figure(figsize=(5, 5))\n",
        "\n",
        "sns.heatmap(novo_df[features].corr(), annot=True, linewidths=0.5, linecolor='black', cmap='Blues')\n",
        "plt.xticks(rotation=90)\n",
        "plt.show()\n"
      ],
      "metadata": {
        "colab": {
          "base_uri": "https://localhost:8080/",
          "height": 415
        },
        "id": "GvifwZJuX50Q",
        "outputId": "56087fe0-d6a4-43a3-a095-2c250aa754b6"
      },
      "execution_count": null,
      "outputs": [
        {
          "output_type": "display_data",
          "data": {
            "text/plain": [
              "<Figure size 360x360 with 2 Axes>"
            ],
            "image/png": "[encoded data removed]"
          },
          "metadata": {
            "needs_background": "light"
          }
        }
      ]
    },
    {
      "cell_type": "code",
      "source": [
        "y = novo_df['NU_NOTA_REDACAO']\n",
        "x_treino = novo_df[features]\n",
        "\n",
        "\n",
        "#padroniza meus dados\n",
        "scaler = preprocessing.StandardScaler().fit(x_treino)\n",
        "\n",
        "\n",
        "#O objeto scaler armazena as médias e desvios padrão para cada recurso no conjunto de treino \n",
        "\n",
        "\n",
        "x_treino_escalado = scaler.transform(x_treino)\n",
        "\n",
        "\n",
        "print('Media {}'.format(x_treino_escalado.mean(axis=1)))\n",
        "print('Desvio padrão {}'.format(x_treino_escalado.std(axis=1)))"
      ],
      "metadata": {
        "colab": {
          "base_uri": "https://localhost:8080/"
        },
        "id": "YvaCc1JyWrfM",
        "outputId": "84f65b4e-593c-497d-e907-0f3cd3922fb6"
      },
      "execution_count": null,
      "outputs": [
        {
          "output_type": "stream",
          "name": "stdout",
          "text": [
            "Media [-0.21949122 -1.17032166 -0.04696294 ... -1.42317975 -0.06781671\n",
            "  0.57305136]\n",
            "Desvio padrão [0.29514975 0.53820118 0.98438578 ... 0.33281892 0.24929124 0.43033537]\n"
          ]
        }
      ]
    },
    {
      "cell_type": "markdown",
      "source": [
        "Separando o dataset em dados de treino e teste"
      ],
      "metadata": {
        "id": "mba_DDaGt7w7"
      }
    },
    {
      "cell_type": "code",
      "source": [
        "notas = ['NU_NOTA_CN', 'NU_NOTA_CH', 'NU_NOTA_LC', 'NU_NOTA_MT', 'NU_NOTA_REDACAO']\n",
        "\n",
        "novo_df['SOMA_NOTAS'] = novo_df[features].sum(axis=1)\n",
        "\n",
        "features = ['NU_NOTA_CN', 'NU_NOTA_CH', 'NU_NOTA_LC', 'NU_NOTA_MT']\n",
        "test_var = 'NU_NOTA_REDACAO'\n",
        "\n",
        "dados_entrada = X = novo_df.loc[novo_df['SOMA_NOTAS'] != 0, features]\n",
        "dados_saida = y = novo_df.loc[novo_df['SOMA_NOTAS'] != 0, test_var]\n",
        "\n",
        "X_train, X_Test, y_train, y_test = train_test_split(X, y, test_size=0.25, random_state=4321)\n",
        "\n",
        "\n",
        "\n"
      ],
      "metadata": {
        "id": "RZVxxqr9uY9K"
      },
      "execution_count": null,
      "outputs": []
    },
    {
      "cell_type": "markdown",
      "source": [
        "Cria um objeto para regressão linear"
      ],
      "metadata": {
        "id": "0hvepl6gz0kP"
      }
    },
    {
      "cell_type": "code",
      "source": [
        "from sklearn import linear_model\n",
        "\n",
        "regre = linear_model.LinearRegression()\n"
      ],
      "metadata": {
        "id": "osQjMeM8zjdn"
      },
      "execution_count": null,
      "outputs": []
    },
    {
      "cell_type": "markdown",
      "source": [
        "Realiza o ajuste do modelo"
      ],
      "metadata": {
        "id": "JM9fCZekz_Fg"
      }
    },
    {
      "cell_type": "code",
      "source": [
        "model = regre.fit(X, y)\n",
        "\n",
        "\n",
        "\n",
        "\n"
      ],
      "metadata": {
        "id": "tDrLTEy8z4XJ"
      },
      "execution_count": null,
      "outputs": []
    },
    {
      "cell_type": "markdown",
      "source": [
        "Obtém os valores ajustados"
      ],
      "metadata": {
        "id": "PAymbr_N0Ugq"
      }
    },
    {
      "cell_type": "code",
      "source": [
        "y_est = regre.predict(X)"
      ],
      "metadata": {
        "id": "oY-I4M0z0XB_"
      },
      "execution_count": null,
      "outputs": []
    },
    {
      "cell_type": "markdown",
      "source": [
        "Obtendo o coeficiente de determinação"
      ],
      "metadata": {
        "id": "9wZ-N1mH0ibl"
      }
    },
    {
      "cell_type": "code",
      "source": [
        "sq_r = model.score(X, y)\n",
        "\n",
        "print(sq_r)"
      ],
      "metadata": {
        "colab": {
          "base_uri": "https://localhost:8080/"
        },
        "id": "6OSk0Avh0moR",
        "outputId": "68e3b409-85d6-4078-d489-41cd6b55b121"
      },
      "execution_count": null,
      "outputs": [
        {
          "output_type": "stream",
          "name": "stdout",
          "text": [
            "0.35517045510117384\n"
          ]
        }
      ]
    },
    {
      "cell_type": "markdown",
      "source": [
        "Visualizando as respostas previstas as notas das redações"
      ],
      "metadata": {
        "id": "-XWCpJcKOonP"
      }
    },
    {
      "cell_type": "code",
      "source": [
        "print(y_est)"
      ],
      "metadata": {
        "colab": {
          "base_uri": "https://localhost:8080/"
        },
        "id": "54z4VEV3Ob-b",
        "outputId": "67eeaf7e-8232-4ceb-c95e-a7d3ce184bc4"
      },
      "execution_count": null,
      "outputs": [
        {
          "output_type": "stream",
          "name": "stdout",
          "text": [
            "[597.00348005 500.21396722 566.75838414 ... 417.96401027 630.25547573\n",
            " 725.27426137]\n"
          ]
        }
      ]
    }
  ]
}